{
 "cells": [
  {
   "cell_type": "markdown",
   "metadata": {},
   "source": [
    "### Background\n",
    "In this problem we’ll investigate these methodologies collecting data to estimate the parameters of a linear trend.\n",
    "Specifically, we’ll first assume that we have a true underlying linear model that governs our data, for all $x_i \\in [0, 1]$: \n",
    "<div align = \"center\"> $y_i = ax_i + b + \\epsilon_i$\n",
    "    </div>\n",
    "Where $\\epsilon_i \\sim N(0,\\sigma^2)$ is the observation noise, and $a, b$ are the true parameters of the\n",
    "model. We are interested in designing $n$ query points $x_i$, such that the $(x_i, y_i)$ pairs we\n",
    "receive will result in the best estimates of $a$ and $b$. We’ll use least squares to do this."
   ]
  },
  {
   "cell_type": "markdown",
   "metadata": {},
   "source": [
    "We’ll compare three different designs for $x$:\n",
    "- **Evenly spaced**: query n points evenly spaced within [0, 1] (inclusive).\n",
    "- **Dumbbell**: query half of the allotted points at $x_i = 0$, the other half at $x_i = 1$.\n",
    "- **Quadratic**: query one third of the allotted points at $x_i = 0$, the one third at $x_i = 1$, and one third at the halfway point: $x_i = 0.5$."
   ]
  },
  {
   "cell_type": "markdown",
   "metadata": {},
   "source": [
    "Once we’ve designed $\\{x_i\\}_{i=1}^{n}$ and conducted our experiment, we have pairs $\\{(x_i, y_i)\\}_{i\n",
    "=1}^{n}$.\n",
    "We will use OLS to estimate $a$. Recall that for the univariate regression above, the OLS\n",
    "estimators of $a$ is: \n",
    "<div align = \"center\"> $\\hat a_{OLS} = \\frac{\\sum_{i=1}^{n}(x_i - \\bar x)(y_i - \\bar y)}{\\sum_{i=1}^{n}(x_i-\\bar x)^2}$\n",
    "    </div>\n",
    "and has variance \n",
    "<div align = \"center\"> $Var(\\hat a_{OLS}) = \\frac{\\sigma^2}{\\sum_{i=1}^{n}(x_i - \\bar x)^2}$\n",
    "    </div>\n",
    "where $\\bar x = \\frac{1}{n}\\sum_{i=1}^{n}x_i$"
   ]
  },
  {
   "cell_type": "code",
   "execution_count": 17,
   "metadata": {},
   "outputs": [],
   "source": [
    "import numpy as np \n",
    "import matplotlib.pyplot as plt \n",
    "from sklearn.metrics import mean_squared_error, r2_score\n",
    "from sklearn import datasets, linear_model\n",
    "import statistics as stat"
   ]
  },
  {
   "cell_type": "markdown",
   "metadata": {},
   "source": [
    "### Some Theoretical Proof"
   ]
  },
  {
   "cell_type": "markdown",
   "metadata": {},
   "source": [
    "- The variance of the **dumbbell estimator** for this problem is\n",
    "<div align = \"center\"> $Var(\\hat \\alpha_{db}) = \\frac{4\\sigma^2}{n}$\n",
    "    </div>\n",
    "    \n",
    "    Proof: $Var(\\hat \\alpha_{db}) = \\frac{\\sigma^2}{\\sum_{i=1}^{n}(x_i-\\bar x)^2} = \\frac{\\sigma^2}{\\sum_{i=1}^{n}(x_i - 0.5)^2} = \\frac{\\sigma^2}{n*0.5^2}= \\frac{4\\sigma^2}{n}$ <br/>\n",
    "    since half of $x_i = 0$, and the other half of $x_i = 1$"
   ]
  },
  {
   "cell_type": "markdown",
   "metadata": {},
   "source": [
    "- The variance of the estimator resulting from a **quadratic design** on this \n",
    "<div align = \"center\"> $Var(\\hat \\alpha_{qu}) = \\frac{3}{2}Var(\\hat \\alpha_{db})$\n",
    "    </div>\n",
    "    \n",
    "    Proof: $Var(\\hat \\alpha_{qu}) = \\frac{\\sigma^2}{\\sum_{i=1}^{n}(x_i-\\bar x)^2} = \\frac{\\sigma^2}{\\frac{n}{3}(0-0.5)^2 + \\frac{n}{3}(0.5-0.5)^2 + \\frac{n}{3}(1-0.5)^2} = \\frac{\\sigma^2}{\\frac{2}{3}n*0.5^2} = \\frac{3}{2}Var(\\hat \\alpha_{db})$ <br/>\n",
    "    since one third of the allotted points at $x_i = 0$, the one third at $x_i = 1$, and one third at the halfway point: $x_i = 0.5$."
   ]
  },
  {
   "cell_type": "markdown",
   "metadata": {},
   "source": [
    "- The variance of the estimator resulting from a **evenly spaced** on this \n",
    "<div align = \"center\"> $Var(\\hat \\alpha_{even}) = \\frac{3(n-1)}{n+1}Var(\\hat \\alpha_{db})$\n",
    "    </div>\n",
    "    \n",
    "    Proof: $Var(\\hat \\alpha_{even}) = \\frac{\\sigma^2}{\\sum_{i=1}^{n}(x_i-\\bar x)^2} = \\frac{\\sigma^2}{\\sum_{i=1}^{n}(\\frac{i-1}{n-1} - \\frac{1}{2})^2} = \\frac{\\sigma^2}{\\frac{n(n+1)}{12(n-1)}} = \\frac{3(n-1)}{n+1} \\frac{4\\sigma^2}{n} = \\frac{3(n-1)}{n+1}Var(\\hat \\alpha_{db})$ <br/>\n",
    "    "
   ]
  },
  {
   "cell_type": "markdown",
   "metadata": {},
   "source": [
    "### Simulations I\n",
    "Implement the following experiment to assess these three design methodologies;\n",
    "1. For n = 100, instantiate three design vectors $x = x_1, . . . ,x_n$ corresponding to\n",
    "the designs above.\n",
    "2. For $x_1, . . . ,x_n$ in each of the three samples, sample from the “true” model:\n",
    "<div align = \"center\"> $y_i = ax_i + \\epsilon_i$\n",
    "    </div>\n",
    "where $a = 5$ and $\\epsilon_i = N(0, 0.5)$.\n",
    "3. Use these three sets of 100 $(x, y)$ pairs to compute three OLS estimates of $\\alpha$.\n",
    "4. Make three scatter plots of $y$ vs. $x$, one for each experiment. On these plots overlay the fitted trendline using the OLS estimate of $\\alpha$."
   ]
  },
  {
   "cell_type": "code",
   "execution_count": 16,
   "metadata": {},
   "outputs": [
    {
     "name": "stdout",
     "output_type": "stream",
     "text": [
      "alpha_hat =  4.900966311566493\n"
     ]
    },
    {
     "data": {
      "image/png": "[encoded data removed]",
      "text/plain": [
       "<Figure size 432x288 with 1 Axes>"
      ]
     },
     "metadata": {
      "needs_background": "light"
     },
     "output_type": "display_data"
    }
   ],
   "source": [
    "### dumbell\n",
    "x_1 = np.zeros(50)\n",
    "x_2 = np.ones(50)\n",
    "x = np.concatenate((x_1, x_2), axis=0)\n",
    "e = np.random.normal(0, 0.5, 100)\n",
    "y = 5*x+e\n",
    "\n",
    "regr = linear_model.LinearRegression()\n",
    "regr.fit(x.reshape((100,1)), y)\n",
    "y_fitted = regr.predict(x.reshape((100,1)))\n",
    "print(\"alpha_hat = \",regr.coef_[0])\n",
    "\n",
    "plt.scatter(x, y, s = 4)\n",
    "plt.plot(x, y_fitted, color='red', linewidth=1)\n",
    "plt.title('Scatter plot Dumbell')\n",
    "plt.xlabel('x')\n",
    "plt.ylabel('y')\n",
    "plt.show()"
   ]
  },
  {
   "cell_type": "code",
   "execution_count": 20,
   "metadata": {},
   "outputs": [
    {
     "name": "stdout",
     "output_type": "stream",
     "text": [
      "alpha_hat =  4.900468900257774\n"
     ]
    },
    {
     "data": {
      "image/png": "[encoded data removed]",
      "text/plain": [
       "<Figure size 432x288 with 1 Axes>"
      ]
     },
     "metadata": {
      "needs_background": "light"
     },
     "output_type": "display_data"
    }
   ],
   "source": [
    "### quadratic\n",
    "x_1 = np.zeros(33)\n",
    "x_2 = np.array([0.5]*34)\n",
    "x_3 = np.ones(33)\n",
    "x = np.concatenate((x_1, x_2), axis=0)\n",
    "x = np.concatenate((x, x_3), axis=0)\n",
    "e = np.random.normal(0, 0.5, 100)\n",
    "y = 5*x+e\n",
    "\n",
    "regr = linear_model.LinearRegression()\n",
    "regr.fit(x.reshape((100,1)), y)\n",
    "y_fitted = regr.predict(x.reshape((100,1)))\n",
    "print(\"alpha_hat = \",regr.coef_[0])\n",
    "\n",
    "plt.scatter(x, y, s = 4)\n",
    "plt.plot(x, y_fitted, color='red', linewidth=1)\n",
    "plt.title('Scatter plot Quadratic')\n",
    "plt.xlabel('x')\n",
    "plt.ylabel('y')\n",
    "plt.show()"
   ]
  },
  {
   "cell_type": "code",
   "execution_count": 21,
   "metadata": {},
   "outputs": [
    {
     "name": "stdout",
     "output_type": "stream",
     "text": [
      "alpha_hat =  4.9744845789712455\n"
     ]
    },
    {
     "data": {
      "image/png": "[encoded data removed]",
      "text/plain": [
       "<Figure size 432x288 with 1 Axes>"
      ]
     },
     "metadata": {
      "needs_background": "light"
     },
     "output_type": "display_data"
    }
   ],
   "source": [
    "### even spaced\n",
    "x = np.arange(101)/100\n",
    "e = np.random.normal(0, 0.5, 101)\n",
    "y = 5*x+e\n",
    "\n",
    "regr = linear_model.LinearRegression()\n",
    "regr.fit(x.reshape((101,1)), y)\n",
    "y_fitted = regr.predict(x.reshape((101,1)))\n",
    "print(\"alpha_hat = \",regr.coef_[0])\n",
    "\n",
    "plt.scatter(x, y, s = 4)\n",
    "plt.plot(x, y_fitted, color='red', linewidth=1)\n",
    "plt.title('Evenly Spaced')\n",
    "plt.xlabel('x')\n",
    "plt.ylabel('y')\n",
    "plt.show()"
   ]
  },
  {
   "cell_type": "markdown",
   "metadata": {},
   "source": [
    "### Distribution of $\\hat \\alpha$\n",
    "Repeat the experiment above 1000 times (keep n fixed at 100), and record the distribution of OLS estimates of $\\alpha$ for each of the three experiment designs. "
   ]
  },
  {
   "cell_type": "code",
   "execution_count": 24,
   "metadata": {},
   "outputs": [
    {
     "name": "stdout",
     "output_type": "stream",
     "text": [
      "alpha_db mean: 4.991379196270868\n",
      "alpha_db standard deviation: 0.09941396904142308\n"
     ]
    },
    {
     "data": {
      "image/png": "[encoded data removed]",
      "text/plain": [
       "<Figure size 432x288 with 1 Axes>"
      ]
     },
     "metadata": {
      "needs_background": "light"
     },
     "output_type": "display_data"
    }
   ],
   "source": [
    "## Dumbell\n",
    "dumbell_alpha = []\n",
    "x_1 = np.zeros(50)\n",
    "x_2 = np.ones(50)\n",
    "x = np.concatenate((x_1, x_2), axis=0)\n",
    "for i in range(1000):  \n",
    "    e = np.random.normal(0, 0.5, 100)\n",
    "    y = 5*x+e\n",
    "    regr = linear_model.LinearRegression()\n",
    "    regr.fit(x.reshape((100,1)), y)\n",
    "    y_fitted = regr.predict(x.reshape((100,1)))\n",
    "    dumbell_alpha.append(regr.coef_[0])\n",
    "          \n",
    "plt.hist(dumbell_alpha, bins = 50)\n",
    "plt.ylabel(\"counts\")\n",
    "plt.xlabel(\"alpha hat\")\n",
    "plt.title(\"dumbell\")\n",
    " \n",
    "print(\"alpha_db mean:\", stat.mean(dumbell_alpha))\n",
    "print(\"alpha_db standard deviation:\", stat.stdev(dumbell_alpha))\n"
   ]
  },
  {
   "cell_type": "code",
   "execution_count": 27,
   "metadata": {},
   "outputs": [
    {
     "name": "stdout",
     "output_type": "stream",
     "text": [
      "alpha_qu mean: 5.004650574110486\n",
      "alpha_qu standard deviation: 0.12222889916990895\n"
     ]
    },
    {
     "data": {
      "image/png": "[encoded data removed]",
      "text/plain": [
       "<Figure size 432x288 with 1 Axes>"
      ]
     },
     "metadata": {
      "needs_background": "light"
     },
     "output_type": "display_data"
    }
   ],
   "source": [
    "## quadratic\n",
    "qua_alpha = []\n",
    "x_1 = np.zeros(33)\n",
    "x_2 = np.array([0.5]*34)\n",
    "x_3 = np.ones(33)\n",
    "x = np.concatenate((x_1, x_2), axis=0)\n",
    "x = np.concatenate((x, x_3), axis=0)\n",
    "for i in range(1000):  \n",
    "    e = np.random.normal(0, 0.5, 100)\n",
    "    y = 5*x+e\n",
    "    regr = linear_model.LinearRegression()\n",
    "    regr.fit(x.reshape((100,1)), y)\n",
    "    y_fitted = regr.predict(x.reshape((100,1)))\n",
    "    qua_alpha.append(regr.coef_[0])\n",
    "          \n",
    "plt.hist(qua_alpha, bins = 50)\n",
    "plt.ylabel(\"counts\")\n",
    "plt.xlabel(\"alpha hat\")\n",
    "plt.title(\"Quadratic\")\n",
    "\n",
    "    \n",
    "print(\"alpha_qu mean:\", stat.mean(qua_alpha))\n",
    "print(\"alpha_qu standard deviation:\", stat.stdev(qua_alpha))"
   ]
  },
  {
   "cell_type": "code",
   "execution_count": 29,
   "metadata": {},
   "outputs": [
    {
     "name": "stdout",
     "output_type": "stream",
     "text": [
      "alpha_even mean: 5.000593302710162\n",
      "alpha_even standard deviation: 0.16844102200278901\n"
     ]
    },
    {
     "data": {
      "image/png": "[encoded data removed]",
      "text/plain": [
       "<Figure size 432x288 with 1 Axes>"
      ]
     },
     "metadata": {
      "needs_background": "light"
     },
     "output_type": "display_data"
    }
   ],
   "source": [
    "## evenly spaced\n",
    "even_alpha = []\n",
    "x = np.arange(101)/100\n",
    "for i in range(1000):  \n",
    "    e = np.random.normal(0, 0.5, 101)\n",
    "    y = 5*x+e\n",
    "    regr = linear_model.LinearRegression()\n",
    "    regr.fit(x.reshape((101,1)), y)\n",
    "    y_fitted = regr.predict(x.reshape((101,1)))\n",
    "    even_alpha.append(regr.coef_[0])\n",
    "          \n",
    "plt.hist(even_alpha, bins = 50)\n",
    "plt.ylabel(\"counts\")\n",
    "plt.xlabel(\"alpha hat\")\n",
    "plt.title(\"evenly spaced\")\n",
    "\n",
    "    \n",
    "print(\"alpha_even mean:\", stat.mean(even_alpha))\n",
    "print(\"alpha_even standard deviation:\",stat.stdev(even_alpha))\n"
   ]
  },
  {
   "cell_type": "markdown",
   "metadata": {},
   "source": [
    "### Simulation II\n",
    "What if we have a wrong assumption. Here's what we'll address in this part.<br/>\n",
    "Now follow the same procedure as in Simulation I, but for a model which is not what expected, but rather is\n",
    "<div align = \"center \"> $y_i = b(x_i − 0.5)^2 + \\epsilon_i$\n",
    "    </div>\n",
    "where $b = 8$ and $\\epsilon_i = N(0, 0.5)$. Run the same procedure to get the three OLS\n",
    "estimates of $a$, and plot the scatter plots with trend line overlaid."
   ]
  },
  {
   "cell_type": "code",
   "execution_count": 31,
   "metadata": {},
   "outputs": [
    {
     "name": "stdout",
     "output_type": "stream",
     "text": [
      "alpha_hat =  -0.201473985382379\n"
     ]
    },
    {
     "data": {
      "image/png": "[encoded data removed]",
      "text/plain": [
       "<Figure size 432x288 with 1 Axes>"
      ]
     },
     "metadata": {
      "needs_background": "light"
     },
     "output_type": "display_data"
    }
   ],
   "source": [
    "## Dumbell\n",
    "x_1 = np.zeros(50)\n",
    "x_2 = np.ones(50)\n",
    "x = np.concatenate((x_1, x_2), axis=0)\n",
    "e = np.random.normal(0, 0.5, 100)\n",
    "y = 8*(x-0.5)**2+e\n",
    "\n",
    "\n",
    "regr = linear_model.LinearRegression()\n",
    "regr.fit(x.reshape((100,1)), y)\n",
    "y_fitted = regr.predict(x.reshape((100,1)))\n",
    "print(\"alpha_hat = \", regr.coef_[0])\n",
    "\n",
    "plt.scatter(x, y, s = 4)\n",
    "plt.plot(x, y_fitted, color='red', linewidth=1)\n",
    "plt.title('Scatter plot Dumbell')\n",
    "plt.xlabel('x')\n",
    "plt.ylabel('y')\n",
    "plt.show()"
   ]
  },
  {
   "cell_type": "code",
   "execution_count": 32,
   "metadata": {},
   "outputs": [
    {
     "name": "stdout",
     "output_type": "stream",
     "text": [
      "alpha_hat =  0.026008972326431987\n"
     ]
    },
    {
     "data": {
      "image/png": "[encoded data removed]",
      "text/plain": [
       "<Figure size 432x288 with 1 Axes>"
      ]
     },
     "metadata": {
      "needs_background": "light"
     },
     "output_type": "display_data"
    }
   ],
   "source": [
    "### quadratic\n",
    "x_1 = np.zeros(33)\n",
    "x_2 = np.array([0.5]*34)\n",
    "x_3 = np.ones(33)\n",
    "x = np.concatenate((x_1, x_2), axis=0)\n",
    "x = np.concatenate((x, x_3), axis=0)\n",
    "e = np.random.normal(0, 0.5, 100)\n",
    "y = 8*(x-0.5)**2+e\n",
    "\n",
    "regr = linear_model.LinearRegression()\n",
    "regr.fit(x.reshape((100,1)), y)\n",
    "y_fitted = regr.predict(x.reshape((100,1)))\n",
    "print(\"alpha_hat = \", regr.coef_[0])\n",
    "\n",
    "plt.scatter(x, y, s = 4)\n",
    "plt.plot(x, y_fitted, color='red', linewidth=1)\n",
    "plt.title('Scatter plot Quadratic')\n",
    "plt.xlabel('x')\n",
    "plt.ylabel('y')\n",
    "plt.show()"
   ]
  },
  {
   "cell_type": "code",
   "execution_count": 33,
   "metadata": {},
   "outputs": [
    {
     "name": "stdout",
     "output_type": "stream",
     "text": [
      "alpha_hat =  -0.03955155717727072\n"
     ]
    },
    {
     "data": {
      "image/png": "[encoded data removed]",
      "text/plain": [
       "<Figure size 432x288 with 1 Axes>"
      ]
     },
     "metadata": {
      "needs_background": "light"
     },
     "output_type": "display_data"
    }
   ],
   "source": [
    "### even\n",
    "x = np.arange(101)/100\n",
    "e = np.random.normal(0, 0.5, 101)\n",
    "y = 8*(x-0.5)**2+e\n",
    "\n",
    "\n",
    "regr = linear_model.LinearRegression()\n",
    "regr.fit(x.reshape((101,1)), y)\n",
    "y_fitted = regr.predict(x.reshape((101,1)))\n",
    "print(\"alpha_hat = \", regr.coef_[0])\n",
    "\n",
    "plt.scatter(x, y, s = 4)\n",
    "plt.plot(x, y_fitted, color='red', linewidth=1)\n",
    "plt.title('Evenly Spaced')\n",
    "plt.xlabel('x')\n",
    "plt.ylabel('y')\n",
    "plt.show()"
   ]
  },
  {
   "cell_type": "markdown",
   "metadata": {},
   "source": [
    "### Summary"
   ]
  },
  {
   "cell_type": "markdown",
   "metadata": {},
   "source": [
    "- If I am absolutely certain the relationship between x and y is linear for $x \\in [0, 1]$, I would use the “Dumbell” sampling strategy, since it’s giving the alpha estimate with smallest variance, aka giving the most stable unbiased estimate.\n",
    "- If I am fairly certain the relationship is linear for x in this range, but it’s possible that it is also quadratic, I would use “Quadratic” strategy, since it gives relatively low variance while it samples the some point in between the endpoints as well.\n",
    "- If I am really know the true relationship between x and y, but as a first exploratory step I’d model it as linear know nothing about the true relationship, I would use “Evenly Spaced” strategy, since it gives samples extensively from the range, though the variance is higher."
   ]
  },
  {
   "cell_type": "code",
   "execution_count": null,
   "metadata": {},
   "outputs": [],
   "source": []
  }
 ],
 "metadata": {
  "kernelspec": {
   "display_name": "Python 3",
   "language": "python",
   "name": "python3"
  },
  "language_info": {
   "codemirror_mode": {
    "name": "ipython",
    "version": 3
   },
   "file_extension": ".py",
   "mimetype": "text/x-python",
   "name": "python",
   "nbconvert_exporter": "python",
   "pygments_lexer": "ipython3",
   "version": "3.8.3"
  }
 },
 "nbformat": 4,
 "nbformat_minor": 4
}
