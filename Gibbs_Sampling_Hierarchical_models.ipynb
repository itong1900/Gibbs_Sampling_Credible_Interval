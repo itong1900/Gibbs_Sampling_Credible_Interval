{
 "cells": [
  {
   "cell_type": "markdown",
   "metadata": {},
   "source": [
    "### Introduction\n",
    "This problem will look at using Gibb’s sampling for two different simulation strategies\n",
    "in hierarchical models. The two simulations have different goals, and the\n",
    "strategies will reflect these goals. At the end of this question we'll compare\n",
    "and contrast the goals, the strategies, and the models we choose to represent them."
   ]
  },
  {
   "cell_type": "code",
   "execution_count": 13,
   "metadata": {},
   "outputs": [
    {
     "name": "stdout",
     "output_type": "stream",
     "text": [
      "Populating the interactive namespace from numpy and matplotlib\n"
     ]
    }
   ],
   "source": [
    "%pylab inline\n",
    "\n",
    "import matplotlib.pyplot as plt\n",
    "import numpy as np\n",
    "import pandas as pd\n",
    "import scipy.stats\n",
    "import seaborn as sns\n",
    "import statistics"
   ]
  },
  {
   "cell_type": "markdown",
   "metadata": {},
   "source": [
    "### Background set up\n",
    "There is a bike rideshare company that rents out bikes in a certain town, and they’d like to estimate the number of bikes that will be rented on a given day, so that they know how many bikes to bring in to the shop for service (if it’s projected to be a slow day for bike rentals, the company will service more bikes on thatday). We have a prior belief that people will be more or less likely to rent bikes from the rideshare company depending on **(a) the weather**, and **(b) whether** it is a working day, or a weekend day."
   ]
  },
  {
   "cell_type": "markdown",
   "metadata": {},
   "source": [
    "<img src=\"figure1.png\" alt=\"Drawing\" width= \"400\">"
   ]
  },
  {
   "cell_type": "markdown",
   "metadata": {},
   "source": [
    "### (a) Data loading\n",
    "To get started, import the dataset in bikeshare.csv. Each row corresponds to a unique day with the following associated information:"
   ]
  },
  {
   "cell_type": "code",
   "execution_count": 104,
   "metadata": {},
   "outputs": [
    {
     "data": {
      "image/png": "[encoded data removed]",
      "text/plain": [
       "<Figure size 432x288 with 1 Axes>"
      ]
     },
     "metadata": {
      "needs_background": "light"
     },
     "output_type": "display_data"
    }
   ],
   "source": [
    "# Load bikeshare.csv\n",
    "# The columns of the data are:\n",
    "# sunny: 1 if the day was sunny, 0 otherwise.\n",
    "# working_day: 1 if the day was a working day, 0 otherwise.\n",
    "# month: the month the day was in, where the first month is 1.\n",
    "# num_rentals: the number of people that rented a bike on the day.\n",
    "data = pd.read_csv(\"bikeshare.csv\")\n",
    "\n",
    "plt.hist(\"num_rentals\", data = data, bins = 40)\n",
    "plt.xlabel(\"number of bikes\")\n",
    "plt.ylabel(\"number of days\")\n",
    "plt.show()"
   ]
  },
  {
   "cell_type": "markdown",
   "metadata": {},
   "source": [
    "### (b) Gibb's sampling tool functions\n",
    "Now we’ll use Gibb’s sampling to generate samples from the hierarchical\n",
    "model described in Figure 1. We have the dataset of possible conditions and outcomes\n",
    "available to us, so we’ll use that to seed the distributions in our hierarchical\n",
    "model. <br/>\n",
    "Specifically, given $i \\in \\{0, 1\\}$ representing workday $(i = 1)$ or weekend $(i = 0)$ and\n",
    "$j \\in \\{0, 1\\}$ representing a sunny day $(j = 1)$ or a rainy day $(j = 0)$, we will model\n",
    "the number of bike rentals on a day $x$ as:\n",
    "<div align = \"center\"> $\\mathbb{P}(x|workday = i, sunny = j) \\sim N(\\bar\\mu_{ij} , \\bar\\sigma_{ij})$\n",
    "    </div>\n",
    "where $\\mu_{ij}$ is the average number of rentals in our data set for entries that agree with\n",
    "the settings $workday = i$ and $sunny = j$, and $\\bar\\sigma_{ij}$ is the analogous sample standard\n",
    "deviation."
   ]
  },
  {
   "cell_type": "markdown",
   "metadata": {},
   "source": [
    "**(i) Calculate the means and standard deviations $\\bar\\mu_{ij}$ , $\\bar\\sigma_{ij}$ by the function get_subgroup_statistics()**"
   ]
  },
  {
   "cell_type": "code",
   "execution_count": 86,
   "metadata": {},
   "outputs": [],
   "source": [
    "def get_subgroup_statistics(data):\n",
    "    \"\"\"\n",
    "    Given bikesharing data, returns the means, standard deviations, and counts\n",
    "    split by categories sunny and working_day.\n",
    "    \n",
    "    Parameters\n",
    "    ----------\n",
    "    data : dataframe\n",
    "        A dataframe of bikesharing data with 0/1 categories `sunny` and `working_day`\n",
    "        and numerical value `num_rentals`.\n",
    "        \n",
    "    Returns\n",
    "    -------\n",
    "    means : 2x2 array of floats\n",
    "        An array where mean[i, j] corresponds to the empirical mean of rentals for\n",
    "        all days with working_day=i and sunny=j.\n",
    "    stds : 2x2 array of floats\n",
    "        An array where stds[i, j] corresponds to the empirical standard deviation\n",
    "        of rentals for all days with working_day=i and sunny=j.\n",
    "    counts : 2x2 array of floats\n",
    "        An array where mean[i, j] corresponds to the total number of rentals for\n",
    "        all days with working_day=i and sunny=j.\n",
    "    \"\"\"\n",
    "    num_categories = 2\n",
    "    means = np.zeros((num_categories, num_categories))\n",
    "    stds = np.zeros((num_categories, num_categories))\n",
    "    counts = np.zeros((num_categories, num_categories))\n",
    "    \n",
    "    # Iterate through all possible combinations of working_day and sunny.\n",
    "    for working_day in range(2):\n",
    "        for sunny in range(2):\n",
    "            counts[working_day, sunny] = sum((data[\"working_day\"] == working_day) & (data[\"sunny\"] == sunny))\n",
    "    \n",
    "            means[working_day, sunny] = mean(data.loc[(data[\"sunny\"] == sunny) & \n",
    "                                                      (data[\"working_day\"] == working_day)][\"num_rentals\"])\n",
    "            stds[working_day, sunny] = statistics.stdev(data.loc[(data[\"sunny\"] == sunny) & \n",
    "                                                       (data[\"working_day\"] == working_day)][\"num_rentals\"])\n",
    "\n",
    "    return means, stds, counts"
   ]
  },
  {
   "cell_type": "code",
   "execution_count": 87,
   "metadata": {},
   "outputs": [
    {
     "name": "stdout",
     "output_type": "stream",
     "text": [
      "counts: \n",
      "         rainly     sunny\n",
      "weekend   75.0      156.0\n",
      "workday   193.0      307.0\n"
     ]
    }
   ],
   "source": [
    "means, stds, counts = get_subgroup_statistics(data)\n",
    "print(\"counts: \")\n",
    "print(\"         rainly     sunny\")\n",
    "print(\"weekend   {0}      {1}\".format(counts[0,0],counts[0,1]))\n",
    "print(\"workday   {0}      {1}\".format(counts[1,0],counts[1,1]))"
   ]
  },
  {
   "cell_type": "code",
   "execution_count": 89,
   "metadata": {},
   "outputs": [
    {
     "name": "stdout",
     "output_type": "stream",
     "text": [
      "means: \n",
      "         rainly                   sunny\n",
      "weekend   1136.84                 1483.775641025641\n",
      "workday   458.07253886010363      699.9250814332247\n"
     ]
    }
   ],
   "source": [
    "print(\"means: \")\n",
    "print(\"         rainly                   sunny\")\n",
    "print(\"weekend   {0}                 {1}\".format(means[0,0],means[0,1]))\n",
    "print(\"workday   {0}      {1}\".format(means[1,0],means[1,1]))"
   ]
  },
  {
   "cell_type": "code",
   "execution_count": 90,
   "metadata": {},
   "outputs": [
    {
     "name": "stdout",
     "output_type": "stream",
     "text": [
      "stds: \n",
      "         rainly                   sunny\n",
      "weekend   829.6177569837224       873.5823876704324\n",
      "workday   358.70131046230483      382.8249539270632\n"
     ]
    }
   ],
   "source": [
    "print(\"stds: \")\n",
    "print(\"         rainly                   sunny\")\n",
    "print(\"weekend   {0}       {1}\".format(stds[0,0],stds[0,1]))\n",
    "print(\"workday   {0}      {1}\".format(stds[1,0],stds[1,1]))"
   ]
  },
  {
   "cell_type": "markdown",
   "metadata": {},
   "source": [
    "**(ii) The simulation sampling procedure proceeds as follows. For T rounds, do the following:**<br/>\n",
    "1. Set $p_{sun}$ to be the fraction of sunny days you see in the dataset. Set $p_{workday} = \\frac{5}{7}$.\n",
    "2. Sample $i \\sim Bernoulli(p_{sun})$, $j \\sim Bernoulli(p_{workday})$.\n",
    "3. Sample $x \\sim N(\\bar\\mu_{ij} , \\bar\\sigma_{ij})$\n",
    "4. Append $x$ to the sample of simulated rental counts.\n"
   ]
  },
  {
   "cell_type": "code",
   "execution_count": 93,
   "metadata": {},
   "outputs": [],
   "source": [
    "def sample_num_rentals(workday, sunny, means, stds):\n",
    "    \"\"\"\n",
    "    Randomly sample the number of bike rentals from one of four Gaussians depending\n",
    "    on the given daily conditions.\n",
    "    \n",
    "    Parameters\n",
    "    ----------\n",
    "    workday : int\n",
    "        1 if the day we wish to sample for is a workday, 0 if it's a weekend.\n",
    "    sunny : int\n",
    "        1 if the day we wish to sample for is sunny, 0 if it's rainy.\n",
    "    means : 2x2 array of floats\n",
    "        An array where mean[i, j] corresponds to the mean of the Gaussian\n",
    "        we sample from when working_day=i and sunny=j.\n",
    "    stds : 2x2 array of floats\n",
    "        An array where mean[i, j] corresponds to the standard deviation of the Gaussian\n",
    "        we sample from when working_day=i and sunny=j.\n",
    "        \n",
    "    Returns\n",
    "    -------\n",
    "    count : float\n",
    "        A Gaussian sampled count.\n",
    "    \"\"\"\n",
    "    mu, sigma = means[workday, sunny], stds[workday, sunny]\n",
    "    return np.random.normal(mu, sigma, 1)\n",
    "\n",
    "\n",
    "def simulate_rentals(num_samples, p_workday, p_sunny, means, stds):\n",
    "    \"\"\"\n",
    "    Simulate `num_samples` days by using the sampling procedure defined\n",
    "    in the homework sheet.\n",
    "    \n",
    "    Parameters\n",
    "    ----------\n",
    "    num_samples : int\n",
    "        The number of days to simulate.\n",
    "    p_workday : float\n",
    "        The probability that any given day will be a workday.\n",
    "    p_sunny : float\n",
    "        The probability that any given day will be sunny.\n",
    "    means : 2x2 array of floats\n",
    "        An array where mean[i, j] corresponds to the mean of the Gaussian\n",
    "        we sample from for the number of rentals when working_day=i and sunny=j.\n",
    "    stds : 2x2 array of floats\n",
    "        An array where stds[i, j] corresponds to the standard deviation of the Gaussian\n",
    "        we sample from for the number of rentals when working_day=i and sunny=j.\n",
    "        \n",
    "    Returns\n",
    "    -------\n",
    "    samples : num_samples x 3 array of floats\n",
    "        The generated samples where samples[i, 0] is 1 if day i was a workday,\n",
    "        samples[i, 1] is 1 if day i was sunny, and samples[i, 2] is the number\n",
    "        of rentals that happened on that day.\n",
    "    \"\"\"\n",
    "    samples = np.zeros((num_samples, 3))\n",
    "    for t in range(num_samples):\n",
    "        x_t = np.zeros(3)\n",
    "        x_t[0] = np.random.binomial(n = 1, p = p_workday)\n",
    "        x_t[1] = np.random.binomial(n = 1, p = p_sunny)\n",
    "        x_t = x_t.astype(int)\n",
    "        x_t[2] = sample_num_rentals(x_t[0], x_t[1], means, stds)\n",
    "        samples[t] = x_t\n",
    "        \n",
    "    return samples"
   ]
  },
  {
   "cell_type": "markdown",
   "metadata": {},
   "source": [
    "### (c) A few simulation cases\n",
    "Draw 1000 samples; plot the histogram of the resulting draws for the number of bikes in a given day."
   ]
  },
  {
   "cell_type": "code",
   "execution_count": 97,
   "metadata": {},
   "outputs": [
    {
     "data": {
      "image/png": "[encoded data removed]",
      "text/plain": [
       "<Figure size 432x288 with 1 Axes>"
      ]
     },
     "metadata": {
      "needs_background": "light"
     },
     "output_type": "display_data"
    }
   ],
   "source": [
    "# Assume a 5 day workweek; ignore holidays.\n",
    "p_workday = 5.0 / 7.0\n",
    "\n",
    "# Use the fraction of sunny days from your dataset.\n",
    "frac_sunny_days = len(data.loc[data[\"sunny\"] == 1]) / len(data)\n",
    "p_sunny = frac_sunny_days\n",
    "\n",
    "# Get the data statistics.\n",
    "means, stds, counts = get_subgroup_statistics(data)\n",
    "\n",
    "T = 1000\n",
    "samples = simulate_rentals(num_samples=T,\n",
    "                           p_workday=p_workday,\n",
    "                           p_sunny=p_sunny,\n",
    "                           means=means,\n",
    "                           stds=stds)\n",
    "\n",
    "# Plot the histogram.\n",
    "plt.hist(samples[:, 2], bins=40)\n",
    "plt.xlabel(\"num_rentals\");\n",
    "plt.ylabel(\"num of days\");\n",
    "plt.title(\"average day simulations\")\n",
    "plt.show()"
   ]
  },
  {
   "cell_type": "markdown",
   "metadata": {},
   "source": [
    "**Let’s say the forecast tomorrow says there’s an 80% chance of rain. Change $p_{sunny}$ to reflect this probability (ignoring any previous rates of rain). Run 1000 simulations with this new probability of rain.**"
   ]
  },
  {
   "cell_type": "markdown",
   "metadata": {},
   "source": [
    "**(i) if tommorrow is a weekday**"
   ]
  },
  {
   "cell_type": "code",
   "execution_count": 105,
   "metadata": {},
   "outputs": [
    {
     "data": {
      "image/png": "[encoded data removed]",
      "text/plain": [
       "<Figure size 432x288 with 1 Axes>"
      ]
     },
     "metadata": {
      "needs_background": "light"
     },
     "output_type": "display_data"
    }
   ],
   "source": [
    "p_workday = 1\n",
    "p_sunny = 0.8\n",
    "\n",
    "T = 1000\n",
    "samples = simulate_rentals(num_samples=T,\n",
    "                           p_workday=p_workday,\n",
    "                           p_sunny=p_sunny,\n",
    "                           means=means,\n",
    "                           stds=stds)\n",
    "\n",
    "plt.hist(samples[:, 2], bins=40)\n",
    "plt.xlabel(\"num_rentals\");\n",
    "plt.ylabel(\"num of days\");\n",
    "plt.title(\"80% rainy weekday\")\n",
    "plt.show()"
   ]
  },
  {
   "cell_type": "markdown",
   "metadata": {},
   "source": [
    "**(ii) if tommorrow is a weekend**"
   ]
  },
  {
   "cell_type": "code",
   "execution_count": 106,
   "metadata": {},
   "outputs": [
    {
     "data": {
      "image/png": "[encoded data removed]",
      "text/plain": [
       "<Figure size 432x288 with 1 Axes>"
      ]
     },
     "metadata": {
      "needs_background": "light"
     },
     "output_type": "display_data"
    }
   ],
   "source": [
    "p_workday = 0\n",
    "p_sunny = 0.8\n",
    "\n",
    "T = 1000\n",
    "samples = simulate_rentals(num_samples=T,\n",
    "                           p_workday=p_workday,\n",
    "                           p_sunny=p_sunny,\n",
    "                           means=means,\n",
    "                           stds=stds)\n",
    "\n",
    "plt.hist(samples[:, 2], bins=40)\n",
    "plt.xlabel(\"num_rentals\");\n",
    "plt.ylabel(\"num of days\");\n",
    "plt.title(\"80% rainy weekend\")\n",
    "plt.show()"
   ]
  },
  {
   "cell_type": "markdown",
   "metadata": {},
   "source": [
    "### (d) New Strategy\n",
    "Now, we’ll switch strategy slightly. Rather than incorporating our dataset\n",
    "to seed individual probabilities governing each of the parameters $\\mu_{00}, \\mu_{01}, \\mu_{10}, \\mu_{11}$,\n",
    "we’ll use the data to sample from the joint distribution on $P(x, \\theta)$, where $x$ is now\n",
    "a dataset of observations. Recall that \n",
    "<div align = \"center\">$P(x, \\theta) = P(x|\\theta)P(\\theta)$\n",
    "    </div>\n",
    "where $ \\theta = [\\mu_{00}, \\mu_{01}, \\mu_{10}, \\mu_{11}]$, and $x \\in R^n$ is the number of rentals on each day.\n",
    "Similarly to before, we’ll model the likelihood as a set of Normal distribution. Let $s_i \\in \\{0, 1\\}$, $w_i \\in \\{0, 1\\}$ denote whether the $i^{th}$ day in the dataset was sunny, and a\n",
    "workday, respectively. Then we model the likelihood for the rental counts of that\n",
    "day as: \n",
    "<div align = \"center\">$P(x_i|\\theta) \\in N(\\mu_{w_i,s_i},\\theta_{w_i,s_i})$\n",
    "    </div>\n",
    "We’ll also put independent prior probabilities on each of the means: <br/>\n",
    "$P(\\theta) = P(\\mu_{00}, \\mu_{01}, \\mu_{10}, \\mu_{11}) = P(\\mu_{00})P(\\mu_{01})P(\\mu_{10})P(\\mu_{11})$ as normal with specified means and standard deviations."
   ]
  },
  {
   "cell_type": "markdown",
   "metadata": {},
   "source": [
    "Using the prior probabilities and the likelihood, we will now use the following sample\n",
    "procedure. <br/>\n",
    "For $t = 1, ...,T$:\n",
    "1. Sample $\\mu_{00} \\sim P(\\mu_{00}), \\mu_{01} \\sim P(\\mu_{01}), \\mu_{10} \\sim P(\\mu_{10})$, and $\\mu_{11} \\sim P(\\mu_{11})$.\n",
    "2. Compute $l = P(x, \\theta)$.\n",
    "3. Append $[\\mu_{00}, \\mu_{01}, \\mu_{10}, \\mu_{11}, l]$ to the sample."
   ]
  },
  {
   "cell_type": "code",
   "execution_count": 109,
   "metadata": {},
   "outputs": [],
   "source": [
    "def sample_mu_by_category(prior_means, prior_sigma, working_day, sunny):\n",
    "    \"\"\"\n",
    "    Sample mu from a Gaussian prior that depends on the properties of the day.\n",
    "    \n",
    "    Parameters\n",
    "    ----------\n",
    "    prior_means : 2x2 array of floats\n",
    "        The prior means where prior_means[i, j] is the prior mean for days\n",
    "        with working_day=i and sunny=j.\n",
    "    prior_sigma : float\n",
    "        The standard deviation of the prior from which we are sampling.\n",
    "    working_day : int\n",
    "        1 if we are sampling the mean for a day that is a workday and 0 for\n",
    "        a day that is a weekend.\n",
    "    sunny : int\n",
    "        1 if we are sampling the mean for a day that is sunny and 0 for\n",
    "        a day that is rainy.\n",
    "        \n",
    "    Returns\n",
    "    -------\n",
    "    mu : float\n",
    "        The sampled mean.\n",
    "    \"\"\"\n",
    "    prior_mean = prior_means[working_day][sunny]\n",
    "    return np.random.normal(prior_mean, prior_sigma)\n",
    "\n",
    "\n",
    "def prior_prob_by_category(observed_mu, prior_means, prior_sigma, working_day, sunny):\n",
    "    \"\"\"\n",
    "    Compute the probability that we observed mu given specific properties of the day.\n",
    "    \n",
    "    Parameters\n",
    "    ----------\n",
    "    observed_mu : float\n",
    "        The value of mu for which we wish to compute the prior probability.\n",
    "    prior_means : 2x2 array of floats\n",
    "        The prior means where prior_means[i, j] is the prior mean for days\n",
    "        with working_day=i and sunny=j.\n",
    "    prior_sigma : float\n",
    "        The standard deviation of the prior from which we are sampling.\n",
    "    working_day : int\n",
    "        1 if we are sampling the mean for a day that is a workday and 0 for\n",
    "        a day that is a weekend.\n",
    "    sunny : int\n",
    "        1 if we are sampling the mean for a day that is sunny and 0 for\n",
    "        a day that is rainy.\n",
    "        \n",
    "    Returns\n",
    "    -------\n",
    "    prob : float\n",
    "        The computed probability.\n",
    "    \"\"\"\n",
    "    prior_mean = prior_means[working_day][sunny]\n",
    "    return scipy.stats.norm(prior_mean,prior_sigma).pdf(observed_mu)\n",
    "\n",
    "\n",
    "def compute_likelihood(data, likelihood_means, likelihood_sigma):\n",
    "    \"\"\"\n",
    "    Compute the likelihood that we observed the data given the\n",
    "    means across the four daily categories.\n",
    "    \n",
    "    Parameters\n",
    "    ----------\n",
    "    data : dataframe\n",
    "        A dataframe of bikesharing data with 0/1 categories `sunny` and `working_day`\n",
    "        and numerical value `num_rentals`.\n",
    "    likelihood_means : 2x2 array of floats\n",
    "        The likelihood means where sampled_means[i, j] is the likelihood mean when\n",
    "        work_day=i and sunny=j.\n",
    "    likelihood_sigma : float\n",
    "        The standard deviations of the Gaussians from which the data is drawn.\n",
    "\n",
    "    Returns\n",
    "    -------\n",
    "    prob : float\n",
    "        The likelihood of the data, may be scaled by a fixed constant.\n",
    "    \"\"\"\n",
    "    sunny = data[\"sunny\"].values\n",
    "    working_day = data[\"working_day\"].values\n",
    "    num_rentals = data[\"num_rentals\"].values\n",
    "    \n",
    "    likelihood = 1\n",
    "    # Assume draws are i.i.d. so that likelihoods of each datapoint multiply.\n",
    "    for i in range(len(data)):\n",
    "        x = num_rentals[i]\n",
    "        # mu_this_category is the sampled mean for the sunny/workday combo of row i.\n",
    "        mu_this_category = likelihood_means[working_day[i], sunny[i]]\n",
    "\n",
    "        # Premultiply by 1e4 to keep numerical stability, \n",
    "        # because data is the same length every time this will be ok.\n",
    "        likelihood *= 1e4 * scipy.stats.norm(mu_this_category, likelihood_sigma).pdf(x)\n",
    "        \n",
    "    return likelihood\n",
    "\n",
    "def gibbs_sampling_posterior(data, num_samples, prior_means, prior_sigma, likelihood_sigma):\n",
    "    \"\"\"\n",
    "    Sample likelihood parameters (the means) along with their posterior probability.\n",
    "    \n",
    "    Parameters\n",
    "    ----------\n",
    "    num_samples : int\n",
    "        The number of samples to draw.\n",
    "    prior_means : 2x2 array of floats\n",
    "        The prior means associated to the likelihood means, where prior_means[i, j]\n",
    "        is the prior mean for working_day=i and sunny=j.\n",
    "    prior_sigma : float\n",
    "        The standard deviation of all the prior Gaussians.\n",
    "    likelihood_sigma : float\n",
    "        The standard deviation of all the likelihood Gaussians.\n",
    "    \n",
    "    Returns\n",
    "    -------\n",
    "    samples : num_samples x 5 array of floats\n",
    "        The array of all generated samples where samples[i] is the subarray with\n",
    "        [mu_sunny_workday, mu_rainy_workday, mu_sunny_weekend, mu_rainy_weekend, c*p(theta, x)]\n",
    "        where the last element is the posterior scaled by any arbitrary positive constant.\n",
    "    \"\"\"\n",
    "    samples = np.zeros((num_samples, 5))\n",
    "    for t in range(num_samples):\n",
    "        # Sample the likelihood parameters.\n",
    "        mu_sunny_workday = sample_mu_by_category(prior_means, prior_sigma, 1, 1) \n",
    "        mu_sunny_weekend = sample_mu_by_category(prior_means, prior_sigma, 0, 1)\n",
    "        mu_rainy_workday = sample_mu_by_category(prior_means, prior_sigma, 1, 0)\n",
    "        mu_rainy_weekend = sample_mu_by_category(prior_means, prior_sigma, 0, 0)\n",
    "        \n",
    "        # Now compute the likelihood.\n",
    "        theta = np.array([[mu_rainy_weekend, mu_sunny_weekend],\n",
    "                          [mu_rainy_workday, mu_sunny_workday]])\n",
    "        likelihood = compute_likelihood(data, theta, likelihood_sigma)\n",
    "        \n",
    "        # Compute P(theta).\n",
    "        p_theta = prior_prob_by_category(mu_sunny_workday, prior_means, prior_sigma, 1, 1) *prior_prob_by_category(mu_sunny_weekend, prior_means, prior_sigma, 0, 1)*prior_prob_by_category(mu_rainy_workday, prior_means, prior_sigma, 1, 0)*prior_prob_by_category(mu_rainy_weekend, prior_means, prior_sigma, 0, 0)\n",
    "    \n",
    "        # Save the sample.\n",
    "        x_t = np.zeros(5)\n",
    "        x_t[0] = mu_sunny_workday\n",
    "        x_t[1] = mu_rainy_workday\n",
    "        x_t[2] = mu_sunny_weekend\n",
    "        x_t[3] = mu_rainy_weekend\n",
    "        x_t[4] = likelihood*p_theta\n",
    "        samples[t] = x_t\n",
    "\n",
    "    return np.array(samples)"
   ]
  },
  {
   "cell_type": "markdown",
   "metadata": {},
   "source": [
    "### (g) \n",
    "Plot the estimated distributions of the posterior marginals $P(\\mu_{00}), P(\\mu_{01}), P(\\mu{10})$,\n",
    "and $P(\\mu_{11})$ from your sample. To do so a histogram of each draw of each mean\n",
    "is plotted, weighted by the calculated posterior density associated with that\n",
    "draw. <br/><br/>\n",
    "For comparison purpose. We'll first plot the distribution of $n = 10$ data points, and then $n = 100$ datapoints from the total data."
   ]
  },
  {
   "cell_type": "code",
   "execution_count": 114,
   "metadata": {},
   "outputs": [
    {
     "data": {
      "image/png": "[encoded data removed]",
      "text/plain": [
       "<Figure size 432x288 with 1 Axes>"
      ]
     },
     "metadata": {
      "needs_background": "light"
     },
     "output_type": "display_data"
    }
   ],
   "source": [
    "mu_rainy_weekend_prior = 4000\n",
    "mu_rainy_workday_prior = 2000\n",
    "\n",
    "mu_sunny_weekend_prior = 4000\n",
    "mu_sunny_workday_prior = 2000\n",
    "\n",
    "prior_sigma = 1000\n",
    "likelihood_sigma = 1000\n",
    "\n",
    "prior_means = np.array([[mu_rainy_weekend_prior, mu_sunny_weekend_prior],\n",
    "                        [mu_rainy_workday_prior, mu_sunny_workday_prior]])\n",
    "\n",
    "samples = gibbs_sampling_posterior(data[:10],\n",
    "                                   num_samples=1000,\n",
    "                                   prior_means=prior_means,\n",
    "                                   prior_sigma=prior_sigma,\n",
    "                                   likelihood_sigma=likelihood_sigma)\n",
    "\n",
    "fig, ax = plt.subplots()\n",
    "\n",
    "ax.hist(samples[:,0], weights=samples[:,4], label=\"posterior mu_sunny_workday\", density=True, alpha=0.5)\n",
    "ax.hist(samples[:,1], weights=samples[:,4], label=\"posterior mu_rainy_workday\", density=True, alpha=0.5)\n",
    "ax.hist(samples[:,2], weights=samples[:,4], label=\"posterior mu_sunny_weekend\", density=True, alpha=0.5)\n",
    "ax.hist(samples[:,3], weights=samples[:,4], label=\"posterior mu_rainy_weekend\", density=True, alpha=0.5)\n",
    "\n",
    "ax.legend(bbox_to_anchor=(1, 1))\n",
    "\n",
    "plt.title(\"10 data points\")\n",
    "plt.show()"
   ]
  },
  {
   "cell_type": "code",
   "execution_count": 115,
   "metadata": {},
   "outputs": [
    {
     "data": {
      "image/png": "[encoded data removed]",
      "text/plain": [
       "<Figure size 432x288 with 1 Axes>"
      ]
     },
     "metadata": {
      "needs_background": "light"
     },
     "output_type": "display_data"
    }
   ],
   "source": [
    "mu_rainy_weekend_prior = 4000\n",
    "mu_rainy_workday_prior = 2000\n",
    "\n",
    "mu_sunny_weekend_prior = 4000\n",
    "mu_sunny_workday_prior = 2000\n",
    "\n",
    "prior_sigma = 1000\n",
    "likelihood_sigma = 1000\n",
    "\n",
    "prior_means = np.array([[mu_rainy_weekend_prior, mu_sunny_weekend_prior],\n",
    "                        [mu_rainy_workday_prior, mu_sunny_workday_prior]])\n",
    "\n",
    "samples = gibbs_sampling_posterior(data[:100],\n",
    "                                   num_samples=1000,\n",
    "                                   prior_means=prior_means,\n",
    "                                   prior_sigma=prior_sigma,\n",
    "                                   likelihood_sigma=likelihood_sigma)\n",
    "\n",
    "fig, ax = plt.subplots()\n",
    "\n",
    "ax.hist(samples[:,0], weights=samples[:,4], label=\"posterior mu_sunny_workday\", density=True, alpha=0.5)\n",
    "ax.hist(samples[:,1], weights=samples[:,4], label=\"posterior mu_rainy_workday\", density=True, alpha=0.5)\n",
    "ax.hist(samples[:,2], weights=samples[:,4], label=\"posterior mu_sunny_weekend\", density=True, alpha=0.5)\n",
    "ax.hist(samples[:,3], weights=samples[:,4], label=\"posterior mu_rainy_weekend\", density=True, alpha=0.5)\n",
    "\n",
    "ax.legend(bbox_to_anchor=(1, 1))\n",
    "\n",
    "plt.title(\"100 data points\")\n",
    "plt.show()"
   ]
  },
  {
   "attachments": {},
   "cell_type": "markdown",
   "metadata": {},
   "source": [
    "### Summary\n",
    "We are sampling the distributions of num_bikerentals under different workday and weather status. We noticed that even with a small sample(as small as 10), Gibb's samping gives an okay level of simulation of distribution of the means by utilizing the prior distribution means and standard deviations. "
   ]
  },
  {
   "cell_type": "code",
   "execution_count": null,
   "metadata": {},
   "outputs": [],
   "source": []
  }
 ],
 "metadata": {
  "kernelspec": {
   "display_name": "Python 3",
   "language": "python",
   "name": "python3"
  },
  "language_info": {
   "codemirror_mode": {
    "name": "ipython",
    "version": 3
   },
   "file_extension": ".py",
   "mimetype": "text/x-python",
   "name": "python",
   "nbconvert_exporter": "python",
   "pygments_lexer": "ipython3",
   "version": "3.8.3"
  }
 },
 "nbformat": 4,
 "nbformat_minor": 4
}
