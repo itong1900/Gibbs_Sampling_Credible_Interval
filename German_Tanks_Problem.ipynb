{
 "cells": [
  {
   "cell_type": "markdown",
   "metadata": {},
   "source": [
    "### Background\n",
    "In this problem we will solve the German Tanks problem using both Frequentist and Bayesian approaches. The setup is as follows. During World War\n",
    "II, the German army began construction of new, more agile tanks. Luckily for the Allies, the Germans labeled their tanks 1, 2, 3, ...,N, though N was unknown. Allied intelligence indicated that N = 1550. The Allies’ statisticians, however, used the labels from tanks that were destroyed in battle to estimate N, and came up with a much better estimate of N = 327. After the war, German records showed that N = 342. In this problem we will perform the same analysis as the Allied statisticians."
   ]
  },
  {
   "cell_type": "code",
   "execution_count": 7,
   "metadata": {},
   "outputs": [],
   "source": [
    "import random\n",
    "import math\n",
    "import pandas as pd\n",
    "import numpy as np\n",
    "from scipy.stats import norm\n",
    "from scipy.stats import binom\n",
    "from scipy.special import comb\n",
    "from scipy import stats\n",
    "import matplotlib.pyplot as plt\n",
    "%matplotlib inline"
   ]
  },
  {
   "cell_type": "code",
   "execution_count": 3,
   "metadata": {},
   "outputs": [],
   "source": [
    "serial_numbers_1=[331]\n",
    "serial_numbers_2=[331,134, 306,  53, 272,  97, 100, 255,   3, 298]\n",
    "serial_numbers_3=[111, 228, 139, 216,  36, 213, 189,  71, 184, 331, 49, 224, 173, 311,305, 208, 231, 285, 142,  22, 168, 263, 135, 149, 155]"
   ]
  },
  {
   "cell_type": "markdown",
   "metadata": {},
   "source": [
    "The statisticians had a sample of k destroyed tanks, with serial numbers $Y_1, ...,Y_k$ which they assumed had been sampled uniformly at random from $\\{1, ...,N\\}$ without replacement.\n",
    "Let us denote $Y(k)$ as the largest serial number in the sample of k tanks."
   ]
  },
  {
   "cell_type": "markdown",
   "metadata": {},
   "source": [
    "### Frequentist Method\n",
    "- Some Theoretical Proof\n",
    "1. The probability that maximum serial number, $Y(k) = i$ is given by:\n",
    "<div align = \"center\">$\\mathbb{P}(Y_{(k)}= i) \n",
    "    \\begin{cases} \n",
    "      \\frac{{i-1} \\choose {k-1}}{N\\choose k} ; & k\\leq i\\leq N  \\\\\n",
    "      0; & otherwise\n",
    "   \\end{cases}$\n",
    "    </div>\n",
    "Recall that we assumed that the k tanks were sampled uniformly at random without\n",
    "replacement from $\\{1, ...,N\\}$."
   ]
  },
  {
   "cell_type": "markdown",
   "metadata": {},
   "source": [
    "**Proof** : when $0 < i < k$, there's no way $i$ be the tank with largest serial number, so this prove the \"otherwise\" case; <br/><br/>\n",
    "when $k \\leq i \\leq N$, $P(Y_{(k)} = i) = \\frac{{1 \\choose 1}{{i-1} \\choose {k-1}}}{N\\choose k}$, select k tanks from the a total of N tanks and the $i^{th}$ as the largest, select the rest $k-1$ from $i-1$ tanks."
   ]
  },
  {
   "cell_type": "markdown",
   "metadata": {},
   "source": [
    "2. Given the expression for $P(Y_{(k)} = i)$, \n",
    "<div align = \"center\"> $E[Y_{(k)}] = k\\frac{N+1}{k+1}$\n",
    "    </div>"
   ]
  },
  {
   "cell_type": "markdown",
   "metadata": {},
   "source": [
    "**Proof**: recall the hocky-stick identity $\\sum_{i = k}^{N}{i\\choose k} = {{N+1} \\choose {k+1}}$, that is $\\sum_{i=k-1}^{N}{i\\choose {k-1}} = {{N+1}\\choose k}$\n",
    "\n"
   ]
  },
  {
   "cell_type": "markdown",
   "metadata": {},
   "source": [
    "$E[Y_{(k)}] = \\sum_{i=1}^{k-1}0 + \\sum_{i=k}^{N}i\\frac{i-1 \\choose k-1}{N\\choose k} = \\frac{\\sum_{i=k}^{N}i \\frac{(i-1)!}{(k-1)!(i-k)!}}{N \\choose k} = \\frac{k\\sum_{i=k}^{N}\\frac{i!}{k!(i-k)!}}{N\\choose k} = \\frac{k\\sum_{i=k}^{N}{i\\choose k}}{N \\choose k} = \\frac{k{N+1\\choose k+1}}{N\\choose k} = k\\frac{N+1}{k+1}$"
   ]
  },
  {
   "cell_type": "markdown",
   "metadata": {},
   "source": [
    "3. Using the expression for $E[Y_{(k)}]$, the unbiased estimator $\\hat N$ for\n",
    "$N$<br/><br/>\n",
    "<div align = \"center\">$\\hat N = \\frac{k+1}{k}Y_{(k)}-1$\n",
    "    </div> <br/>\n",
    "As you can see it's an unbiased estimator$E(\\hat N) = E(\\frac{k+1}{k}Y_{(k)}-1) = \\frac{k+1}{k}E(Y_{(k)})-1$"
   ]
  },
  {
   "cell_type": "code",
   "execution_count": 12,
   "metadata": {},
   "outputs": [],
   "source": [
    "def frequentist_estimator(serial_numbers):\n",
    "    \"\"\" Returns the frequentist estimator for N, the total number of tanks, \n",
    "    given a sample of k tanks with maximum serial number Y_k\n",
    "    \n",
    "    Parameters\n",
    "    ----------\n",
    "        serial_numbers : list of observed tank serial numbers\n",
    "    \n",
    "    Returns: estimate N_hat\n",
    "    \"\"\"\n",
    "    k = len(serial_numbers)\n",
    "    Y_k = max(serial_numbers)\n",
    "    return (k+1)/k *Y_k - 1"
   ]
  },
  {
   "cell_type": "markdown",
   "metadata": {},
   "source": [
    "### Estimation given by Frequentist Method"
   ]
  },
  {
   "cell_type": "code",
   "execution_count": 6,
   "metadata": {},
   "outputs": [
    {
     "name": "stdout",
     "output_type": "stream",
     "text": [
      "Estimation of Serial 1:  661.0\n",
      "Estimation of Serial 2:  363.1\n",
      "Estimation of Serial 3:  343.24\n"
     ]
    }
   ],
   "source": [
    "print(\"Estimation of Serial 1: \", frequentist_estimator(serial_numbers_1))\n",
    "print(\"Estimation of Serial 2: \", frequentist_estimator(serial_numbers_2))\n",
    "print(\"Estimation of Serial 3: \", frequentist_estimator(serial_numbers_3))"
   ]
  },
  {
   "cell_type": "markdown",
   "metadata": {},
   "source": [
    "### Bayesian Method\n",
    "We will now take the Bayesian approach. To do this, we must first define\n",
    "a prior $\\pi(N)$ over N. For simplicity, we take a uniform prior over $N_{min}<Y_{(k)} < N_{max}$:\n",
    "<div align = \"center\"> $\\pi(N) = \\begin{cases} \n",
    "      \\frac{1}{N_{max} - N_{min}}; & N_{min}\\leq N\\leq N_{max}  \\\\\n",
    "      0   ; & otherwise\n",
    "   \\end{cases}$\n",
    "    </div>\n",
    "Given this prior derive an expression for the posterior $P(N|Y_{(k)})$"
   ]
  },
  {
   "cell_type": "markdown",
   "metadata": {},
   "source": [
    "$P(N|Y_{(k)}) = \\frac{P(Y_{(k)}|N)P(N)}{P(Y_{(k)})}$, and since $P(Y_{(k)}|N) = \\frac{i-1 \\choose k-1}{N \\choose k}$ <br/><br/>\n",
    "Therefore, $P(Y_{(k)}|N)\\propto \\begin{cases} \n",
    "      \\frac{i-1 \\choose k-1}{N \\choose k} \\frac{1}{N_{max}-N_{min}}; & N_{min}\\leq N\\leq N_{max}  \\\\\n",
    "      0   ; & otherwise\n",
    "   \\end{cases}$\n"
   ]
  },
  {
   "cell_type": "code",
   "execution_count": 4,
   "metadata": {},
   "outputs": [],
   "source": [
    "def uniform_prior(n,Nmin=100,Nmax=1000):\n",
    "    \"\"\" Returns the probability mass function of a uniform distribution on the integers from Nmin, Nmax\n",
    "    \n",
    "    Parameters\n",
    "    ----------\n",
    "        n : the value at which the prior is being evaluated.\n",
    "        Nmin : lower bound on support of prior \n",
    "        Nmax : upper bound on support of prior \n",
    "    \"\"\"\n",
    "    assert Nmax>Nmin\n",
    "    if n<=Nmax and n>=Nmin:\n",
    "        return 1.0/(Nmax-Nmin)\n",
    "    else:\n",
    "        return 0.0"
   ]
  },
  {
   "cell_type": "code",
   "execution_count": 5,
   "metadata": {},
   "outputs": [],
   "source": [
    "def posterior_distribution_with_uniform_prior(n,serial_numbers,Nmin=100,Nmax=1000):\n",
    "    \"\"\" Returns the frequentist estimator for N, the total number of tanks, \n",
    "    given a sample of k tanks with maximum serial number Y_k\n",
    "    \n",
    "    Parameters\n",
    "    ----------\n",
    "        n : value of N\n",
    "        serial_numbers : list of observed tank serial numbers\n",
    "        Nmin : lower bound on support of prior \n",
    "        Nmax : upper bound on support of prior \n",
    "    \n",
    "    Returns: P(N=n |serial_numbers)\n",
    "    \"\"\"\n",
    "    ### get total density\n",
    "    num_tanks = len(serial_numbers)\n",
    "    y_k = max(serial_numbers)\n",
    "    \n",
    "    if ((n<max(Nmin,y_k)) or (n>Nmax)):\n",
    "        return 0\n",
    "    else:\n",
    "        Pyk = 0\n",
    "        for i in np.arange(y_k, Nmax + 1):\n",
    "            Pyk += (uniform_prior(n,y_k,Nmax) * comb(y_k-1,num_tanks-1)/comb(i,num_tanks))\n",
    "        \n",
    "        posterior = (uniform_prior(n,y_k,Nmax)*comb(y_k-1,num_tanks-1)/comb(n,num_tanks))/Pyk\n",
    "        return posterior"
   ]
  },
  {
   "cell_type": "code",
   "execution_count": 1,
   "metadata": {},
   "outputs": [],
   "source": [
    "def plot_posteriors(serial_numbers,Nmin=100,Nmax=1000):\n",
    "    \"\"\" Plots the uniform prior and the posterior P(N |Y_k)\n",
    "    \n",
    "    Parameters\n",
    "    ----------\n",
    "    serial_numbers : list of observed tank serial numbers\n",
    "    Nmin: lower bound on support of prior \n",
    "    Nmax: upper bound on support of prior \n",
    "    \"\"\"\n",
    "    \n",
    "    support=np.arange(Nmin-10,Nmax+10)\n",
    "    uniform=[]\n",
    "    posterior=[]\n",
    "    for i in support:\n",
    "        uniform.append(uniform_prior(i,Nmin,Nmax)) \n",
    "        posterior.append(posterior_distribution_with_uniform_prior(i,serial_numbers,Nmin,Nmax))\n",
    "        \n",
    "\n",
    "    plt.plot([0, 1], [0, 0], color='white', lw=1)\n",
    "    plt.stem(support, uniform, linefmt='darkblue', label='Uniform prior')\n",
    "    plt.stem(support, posterior, linefmt='green', lw=1, label='Posterior - w/uniform prior')\n",
    "    plt.legend()\n",
    "    return"
   ]
  },
  {
   "cell_type": "code",
   "execution_count": 14,
   "metadata": {},
   "outputs": [],
   "source": [
    "def credible_interval(alpha,serial_numbers,Nmin=100,Nmax=1000):\n",
    "    \"\"\" returns the credible interval at the level alpha\n",
    "    \n",
    "    Parameters\n",
    "    ----------\n",
    "    alpha: amount of probability mass encompassed by credible interval\n",
    "    serial_numbers : list of observed tank serial numbers\n",
    "    Nmin : lower bound on support of prior \n",
    "    Nmax : upper bound on support of prior \n",
    "    \n",
    "    Returns: a list with the cutoffs for the credible intervals for N in the form\n",
    "                interval=[lower,upper]\n",
    "        \n",
    "    \"\"\"\n",
    "    n = len(serial_numbers)\n",
    "\n",
    "    ## store all posterios in a list\n",
    "    all_pos = [posterior_distribution_with_uniform_prior(i,serial_numbers,Nmin,Nmax) for i in range(Nmin,Nmax+1)]\n",
    "    \n",
    "    ## initialize the bounds and cdf of \n",
    "    cdf = 0\n",
    "    flag = 0 \n",
    "    lower = -1\n",
    "    upper = -1\n",
    "    \n",
    "    for i in range(len(all_pos)):\n",
    "        cdf += all_pos[i]\n",
    "        if cdf >= alpha/2 and flag == 0:\n",
    "            flag = 1\n",
    "            lower = Nmin + i\n",
    "        if cdf >= (1 - alpha/2):\n",
    "            upper = Nmin + i\n",
    "            break\n",
    "    \n",
    "    return [lower, upper]"
   ]
  },
  {
   "cell_type": "code",
   "execution_count": 15,
   "metadata": {},
   "outputs": [],
   "source": [
    "def plot_frequentist_estimate_and_credible_int(alpha,serial_numbers,Nmin=100,Nmax=1000):\n",
    "    \"\"\" plots the posterior P(N| Y_k), the credible interval, and the frequentist estimate of N.\n",
    "    \n",
    "    Parameters\n",
    "    ----------\n",
    "    alpha : amount of probability mass encompassed by credible interval\n",
    "    serial_numbers : list of observed tank serial numbers\n",
    "    Nmin : lower bound on support of prior \n",
    "    Nmax : upper bound on support of prior \n",
    "    \n",
    "    \"\"\"\n",
    "    #potential support of N\n",
    "    support=np.arange(Nmin,Nmax)\n",
    "    \n",
    "    #potential support of N\n",
    "    posterior=[]\n",
    "    low_interval_probs=[]\n",
    "    low_interval=[]\n",
    "    upper_interval_probs=[]\n",
    "    upper_interval=[]\n",
    "    \n",
    "    #gets credible_interval\n",
    "    left_end, right_end = credible_interval(alpha,serial_numbers,Nmin,Nmax)\n",
    "    \n",
    "    #gets frequentist estimate\n",
    "    frequentist_estimate=frequentist_estimator(serial_numbers)\n",
    "    \n",
    "    #print out information\n",
    "    print(\"Credible Interval: \"+str(left_end)+'-'+str(right_end))\n",
    "    print(\"Frequentist Estimate: \"+str(int(frequentist_estimate)))\n",
    "    \n",
    "    #keeps track of which elements in the support are in which intervals\n",
    "    for i in support:\n",
    "        prob=posterior_distribution_with_uniform_prior(i,serial_numbers,Nmin,Nmax)\n",
    "        posterior.append(prob)\n",
    "        if i<=left_end:\n",
    "            low_interval_probs.append(prob)\n",
    "            low_interval.append(i)\n",
    "        if i>=right_end:\n",
    "            upper_interval_probs.append(prob)\n",
    "            upper_interval.append(i)\n",
    "            \n",
    "    #plot posterior\n",
    "    plt.stem(support, posterior, linefmt='lightgreen',markerfmt='go',basefmt='None',label='Posterior - w/uniform prior')\n",
    "\n",
    "    \n",
    "    #plot credible interval\n",
    "    plt.plot([left_end, right_end], [0, 0], color='darkblue', lw=5, label='Credible Interval')\n",
    "    \n",
    "    #plot the lower interval\n",
    "    if len(low_interval)>0:\n",
    "        markerline, stemlines, baseline = plt.stem(low_interval,low_interval_probs,markerfmt='o',linefmt='darkorange',  basefmt='None')\n",
    "        markerline.set_markerfacecolor('darkorange')\n",
    "        markerline.set_markersize(8)\n",
    "        markerline.set_color('darkorange')\n",
    "    \n",
    "    #plot the higher interval\n",
    "    if len(upper_interval)>0:\n",
    "        markerline, stemlines, baseline=plt.stem(upper_interval, upper_interval_probs,markerfmt='o',linefmt='darkorange', basefmt='None')\n",
    "        markerline.set_markerfacecolor('darkorange')\n",
    "        markerline.set_markersize(8)\n",
    "        markerline.set_color('darkorange')\n",
    "\n",
    "    #plot the frequentist estimate\n",
    "    plt.plot([frequentist_estimate,frequentist_estimate], [0,max(posterior)] ,'o-',color='red', lw=3, label='Frequentist Estimate')\n",
    "\n",
    "    #Axes labels\n",
    "    plt.title('Each Orange Area = '+str(alpha*50.0)+'%', fontsize=15)\n",
    "    plt.xlabel('N')\n",
    "    plt.ylabel('P(N|Y_k)')\n",
    "    plt.legend(bbox_to_anchor=[1.0,1.0])\n",
    "    return"
   ]
  },
  {
   "cell_type": "markdown",
   "metadata": {},
   "source": [
    "### Series 1 Estimation"
   ]
  },
  {
   "cell_type": "code",
   "execution_count": 16,
   "metadata": {},
   "outputs": [
    {
     "name": "stdout",
     "output_type": "stream",
     "text": [
      "Credible Interval: 340-973\n",
      "Frequentist Estimate: 661\n"
     ]
    },
    {
     "name": "stderr",
     "output_type": "stream",
     "text": [
      "<ipython-input-15-0629336bf428>:44: UserWarning: In Matplotlib 3.3 individual lines on a stem plot will be added as a LineCollection instead of individual lines. This significantly improves the performance of a stem plot. To remove this warning and switch to the new behaviour, set the \"use_line_collection\" keyword argument to True.\n",
      "  plt.stem(support, posterior, linefmt='lightgreen',markerfmt='go',basefmt='None',label='Posterior - w/uniform prior')\n",
      "<ipython-input-15-0629336bf428>:52: UserWarning: In Matplotlib 3.3 individual lines on a stem plot will be added as a LineCollection instead of individual lines. This significantly improves the performance of a stem plot. To remove this warning and switch to the new behaviour, set the \"use_line_collection\" keyword argument to True.\n",
      "  markerline, stemlines, baseline = plt.stem(low_interval,low_interval_probs,markerfmt='o',linefmt='darkorange',  basefmt='None')\n",
      "<ipython-input-15-0629336bf428>:59: UserWarning: In Matplotlib 3.3 individual lines on a stem plot will be added as a LineCollection instead of individual lines. This significantly improves the performance of a stem plot. To remove this warning and switch to the new behaviour, set the \"use_line_collection\" keyword argument to True.\n",
      "  markerline, stemlines, baseline=plt.stem(upper_interval, upper_interval_probs,markerfmt='o',linefmt='darkorange', basefmt='None')\n"
     ]
    },
    {
     "data": {
      "image/png": "[encoded data removed]",
      "text/plain": [
       "<Figure size 432x288 with 1 Axes>"
      ]
     },
     "metadata": {
      "needs_background": "light"
     },
     "output_type": "display_data"
    }
   ],
   "source": [
    "plot_frequentist_estimate_and_credible_int(0.05, serial_numbers_1,Nmin=100,Nmax=1000)\n"
   ]
  },
  {
   "cell_type": "markdown",
   "metadata": {},
   "source": [
    "### Series 2 Estimation"
   ]
  },
  {
   "cell_type": "code",
   "execution_count": 17,
   "metadata": {},
   "outputs": [
    {
     "name": "stdout",
     "output_type": "stream",
     "text": [
      "Credible Interval: 331-496\n",
      "Frequentist Estimate: 363\n"
     ]
    },
    {
     "name": "stderr",
     "output_type": "stream",
     "text": [
      "<ipython-input-15-0629336bf428>:44: UserWarning: In Matplotlib 3.3 individual lines on a stem plot will be added as a LineCollection instead of individual lines. This significantly improves the performance of a stem plot. To remove this warning and switch to the new behaviour, set the \"use_line_collection\" keyword argument to True.\n",
      "  plt.stem(support, posterior, linefmt='lightgreen',markerfmt='go',basefmt='None',label='Posterior - w/uniform prior')\n",
      "<ipython-input-15-0629336bf428>:52: UserWarning: In Matplotlib 3.3 individual lines on a stem plot will be added as a LineCollection instead of individual lines. This significantly improves the performance of a stem plot. To remove this warning and switch to the new behaviour, set the \"use_line_collection\" keyword argument to True.\n",
      "  markerline, stemlines, baseline = plt.stem(low_interval,low_interval_probs,markerfmt='o',linefmt='darkorange',  basefmt='None')\n",
      "<ipython-input-15-0629336bf428>:59: UserWarning: In Matplotlib 3.3 individual lines on a stem plot will be added as a LineCollection instead of individual lines. This significantly improves the performance of a stem plot. To remove this warning and switch to the new behaviour, set the \"use_line_collection\" keyword argument to True.\n",
      "  markerline, stemlines, baseline=plt.stem(upper_interval, upper_interval_probs,markerfmt='o',linefmt='darkorange', basefmt='None')\n"
     ]
    },
    {
     "data": {
      "image/png": "[encoded data removed]",
      "text/plain": [
       "<Figure size 432x288 with 1 Axes>"
      ]
     },
     "metadata": {
      "needs_background": "light"
     },
     "output_type": "display_data"
    }
   ],
   "source": [
    "plot_frequentist_estimate_and_credible_int(0.05,serial_numbers_2,Nmin=100,Nmax=1000)\n"
   ]
  },
  {
   "cell_type": "markdown",
   "metadata": {},
   "source": [
    "### Series 3 Estimation"
   ]
  },
  {
   "cell_type": "code",
   "execution_count": 18,
   "metadata": {},
   "outputs": [
    {
     "name": "stdout",
     "output_type": "stream",
     "text": [
      "Credible Interval: 331-383\n",
      "Frequentist Estimate: 343\n"
     ]
    },
    {
     "name": "stderr",
     "output_type": "stream",
     "text": [
      "<ipython-input-15-0629336bf428>:44: UserWarning: In Matplotlib 3.3 individual lines on a stem plot will be added as a LineCollection instead of individual lines. This significantly improves the performance of a stem plot. To remove this warning and switch to the new behaviour, set the \"use_line_collection\" keyword argument to True.\n",
      "  plt.stem(support, posterior, linefmt='lightgreen',markerfmt='go',basefmt='None',label='Posterior - w/uniform prior')\n",
      "<ipython-input-15-0629336bf428>:52: UserWarning: In Matplotlib 3.3 individual lines on a stem plot will be added as a LineCollection instead of individual lines. This significantly improves the performance of a stem plot. To remove this warning and switch to the new behaviour, set the \"use_line_collection\" keyword argument to True.\n",
      "  markerline, stemlines, baseline = plt.stem(low_interval,low_interval_probs,markerfmt='o',linefmt='darkorange',  basefmt='None')\n",
      "<ipython-input-15-0629336bf428>:59: UserWarning: In Matplotlib 3.3 individual lines on a stem plot will be added as a LineCollection instead of individual lines. This significantly improves the performance of a stem plot. To remove this warning and switch to the new behaviour, set the \"use_line_collection\" keyword argument to True.\n",
      "  markerline, stemlines, baseline=plt.stem(upper_interval, upper_interval_probs,markerfmt='o',linefmt='darkorange', basefmt='None')\n"
     ]
    },
    {
     "data": {
      "image/png": "[encoded data removed]",
      "text/plain": [
       "<Figure size 432x288 with 1 Axes>"
      ]
     },
     "metadata": {
      "needs_background": "light"
     },
     "output_type": "display_data"
    }
   ],
   "source": [
    "plot_frequentist_estimate_and_credible_int(0.05,serial_numbers_3,Nmin=100,Nmax=1000)\n"
   ]
  },
  {
   "cell_type": "markdown",
   "metadata": {},
   "source": [
    "### Summary\n",
    "Note that in all 3 number series, the largest number is 331, and with a larger number of sample size, the narrower credible interval we have. This intuitively makes sense, since with a the same large tank label we have, the more tanks we have in the sample, the closer the actual $N$ is to 331."
   ]
  },
  {
   "cell_type": "code",
   "execution_count": null,
   "metadata": {},
   "outputs": [],
   "source": []
  }
 ],
 "metadata": {
  "kernelspec": {
   "display_name": "Python 3",
   "language": "python",
   "name": "python3"
  },
  "language_info": {
   "codemirror_mode": {
    "name": "ipython",
    "version": 3
   },
   "file_extension": ".py",
   "mimetype": "text/x-python",
   "name": "python",
   "nbconvert_exporter": "python",
   "pygments_lexer": "ipython3",
   "version": "3.8.3"
  }
 },
 "nbformat": 4,
 "nbformat_minor": 4
}
